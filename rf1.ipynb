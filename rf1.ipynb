{
  "nbformat": 4,
  "nbformat_minor": 0,
  "metadata": {
    "colab": {
      "provenance": [],
      "authorship_tag": "ABX9TyMe2O16hcdYi+DHYBsTXRCr",
      "include_colab_link": true
    },
    "kernelspec": {
      "name": "python3",
      "display_name": "Python 3"
    },
    "language_info": {
      "name": "python"
    }
  },
  "cells": [
    {
      "cell_type": "markdown",
      "metadata": {
        "id": "view-in-github",
        "colab_type": "text"
      },
      "source": [
        "<a href=\"https://colab.research.google.com/github/rakeshhhhh/KnowYourCrop/blob/main/rf1.ipynb\" target=\"_parent\"><img src=\"https://colab.research.google.com/assets/colab-badge.svg\" alt=\"Open In Colab\"/></a>"
      ]
    },
    {
      "cell_type": "code",
      "execution_count": 1,
      "metadata": {
        "id": "xEzpFLy5wcCe"
      },
      "outputs": [],
      "source": [
        "from sklearn.model_selection import train_test_split\n",
        "from sklearn.ensemble import RandomForestClassifier\n",
        "from sklearn.metrics import accuracy_score\n",
        "import pandas as pd\n"
      ]
    },
    {
      "cell_type": "code",
      "source": [
        "dataset = pd.read_csv('/content/Crop_recommendation.csv')"
      ],
      "metadata": {
        "id": "iTqBz6gawvzM"
      },
      "execution_count": 8,
      "outputs": []
    },
    {
      "cell_type": "code",
      "source": [
        "X = dataset.drop('label', axis=1)  # Features\n",
        "y = dataset['label']  # Target variable\n",
        "\n",
        "print(X)\n",
        "print(y)\n",
        "\n",
        "# Split the dataset into training and testing sets\n",
        "X_train, X_test, y_train, y_test = train_test_split(X, y, test_size=0.2, random_state=42)\n",
        "\n",
        "# Create a Random Forest Classifier\n",
        "model = RandomForestClassifier()\n",
        "\n",
        "# Train the model\n",
        "model.fit(X_train, y_train)\n",
        "\n",
        "# Make predictions on the test set\n",
        "y_pred = model.predict(X_test)"
      ],
      "metadata": {
        "colab": {
          "base_uri": "https://localhost:8080/"
        },
        "id": "P0z49cvrxAxW",
        "outputId": "c5c304c7-1d30-4072-df99-3d5feb3dc83a"
      },
      "execution_count": 14,
      "outputs": [
        {
          "output_type": "stream",
          "name": "stdout",
          "text": [
            "      temperature   humidity        ph  water availability\n",
            "0       20.879744  82.002744  6.502985          202.935536\n",
            "1       21.770462  80.319644  7.038096          226.655537\n",
            "2       23.004459  82.320763  7.840207          263.964248\n",
            "3       26.491096  80.158363  6.980401          242.864034\n",
            "4       20.130175  81.604873  7.628473          262.717340\n",
            "...           ...        ...       ...                 ...\n",
            "1395    23.874845  86.792613  6.718725          177.514731\n",
            "1396    23.928879  88.071123  6.880205          154.660874\n",
            "1397    24.814412  81.686889  6.861069          190.788639\n",
            "1398    24.447439  82.286484  6.769346          190.968489\n",
            "1399    26.574217  73.819949  7.261581          159.322307\n",
            "\n",
            "[1400 rows x 4 columns]\n",
            "0       rice\n",
            "1       rice\n",
            "2       rice\n",
            "3       rice\n",
            "4       rice\n",
            "        ... \n",
            "1395    jute\n",
            "1396    jute\n",
            "1397    jute\n",
            "1398    jute\n",
            "1399    jute\n",
            "Name: label, Length: 1400, dtype: object\n"
          ]
        }
      ]
    },
    {
      "cell_type": "code",
      "source": [
        "accuracy = accuracy_score(y_test, y_pred)\n",
        "print(f'Model Accuracy: {accuracy * 100:.2f}%')"
      ],
      "metadata": {
        "colab": {
          "base_uri": "https://localhost:8080/"
        },
        "id": "5WH3tl1hxQtX",
        "outputId": "6df4fec3-0520-433d-b527-c8c323531916"
      },
      "execution_count": 15,
      "outputs": [
        {
          "output_type": "stream",
          "name": "stdout",
          "text": [
            "Model Accuracy: 97.86%\n"
          ]
        }
      ]
    },
    {
      "cell_type": "code",
      "source": [
        "ph_value = float(input('Enter pH value of soil: '))\n",
        "temperature = float(input('Enter temperature: '))\n",
        "humidity = float(input('Enter humidity: '))\n",
        "moisture_level = float(input('Enter soil moisture level: '))"
      ],
      "metadata": {
        "colab": {
          "base_uri": "https://localhost:8080/"
        },
        "id": "45apsZ8mxWL_",
        "outputId": "3c8f613b-6c09-4d5b-cea5-8fef8aada361"
      },
      "execution_count": 16,
      "outputs": [
        {
          "name": "stdout",
          "output_type": "stream",
          "text": [
            "Enter pH value of soil: 6.5\n",
            "Enter temperature: 20.87\n",
            "Enter humidity: 82\n",
            "Enter soil moisture level: 202\n"
          ]
        }
      ]
    },
    {
      "cell_type": "code",
      "source": [
        "user_input = pd.DataFrame([[temperature, humidity,ph_value, moisture_level]],\n",
        "                          columns=['temperature', 'humidity','ph', 'water availability'])\n",
        "\n",
        "# Make prediction for user input\n",
        "predicted_crop = model.predict(user_input)\n",
        "\n",
        "print(f'\\nThe predicted crop for the given soil factors is: {predicted_crop[0]}')"
      ],
      "metadata": {
        "colab": {
          "base_uri": "https://localhost:8080/"
        },
        "id": "j-bp93QZxjih",
        "outputId": "f66facdc-41a5-4fbf-be3a-515c096685cd"
      },
      "execution_count": 21,
      "outputs": [
        {
          "output_type": "stream",
          "name": "stdout",
          "text": [
            "\n",
            "The predicted crop for the given soil factors is: rice\n"
          ]
        }
      ]
    },
    {
      "cell_type": "code",
      "source": [
        "import joblib\n",
        "joblib.dump(model, 'trained_decision_tree_model.joblib')"
      ],
      "metadata": {
        "colab": {
          "base_uri": "https://localhost:8080/"
        },
        "id": "bvcW5hEO5XVB",
        "outputId": "339074c0-d337-4047-b713-9853129a5866"
      },
      "execution_count": 24,
      "outputs": [
        {
          "output_type": "execute_result",
          "data": {
            "text/plain": [
              "['trained_decision_tree_model.joblib']"
            ]
          },
          "metadata": {},
          "execution_count": 24
        }
      ]
    }
  ]
}