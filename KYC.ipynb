{
  "nbformat": 4,
  "nbformat_minor": 0,
  "metadata": {
    "colab": {
      "provenance": [],
      "authorship_tag": "ABX9TyPEgYVCJ4/JH8Pl5HwPRLFB",
      "include_colab_link": true
    },
    "kernelspec": {
      "name": "python3",
      "display_name": "Python 3"
    },
    "language_info": {
      "name": "python"
    }
  },
  "cells": [
    {
      "cell_type": "markdown",
      "metadata": {
        "id": "view-in-github",
        "colab_type": "text"
      },
      "source": [
        "<a href=\"https://colab.research.google.com/github/rakeshhhhh/KnowYourCrop/blob/main/KYC.ipynb\" target=\"_parent\"><img src=\"https://colab.research.google.com/assets/colab-badge.svg\" alt=\"Open In Colab\"/></a>"
      ]
    },
    {
      "cell_type": "code",
      "execution_count": null,
      "metadata": {
        "id": "bFtOPOFC5nkv"
      },
      "outputs": [],
      "source": [
        "from sklearn.model_selection import train_test_split\n",
        "from sklearn.tree import DecisionTreeClassifier\n",
        "from sklearn.metrics import accuracy_score\n",
        "from sklearn.preprocessing import LabelEncoder\n",
        "import pandas as pd"
      ]
    },
    {
      "cell_type": "code",
      "source": [
        "file_path = '/content/Crop_recommendation.csv'\n",
        "dataset = pd.read_csv(file_path)\n",
        "\n",
        "column_to_delete = 'season'\n",
        "\n",
        "# Check if the column exists in the DataFrame\n",
        "if column_to_delete in dataset.columns:\n",
        "    # Delete the specified column\n",
        "    dataset = dataset.drop(columns=[column_to_delete])\n",
        "\n",
        "    # Save the modified DataFrame back to the CSV file\n",
        "    dataset.to_csv(file_path, index=False)\n",
        "\n",
        "    print(f\"The column '{column_to_delete}' has been deleted.\")\n",
        "else:\n",
        "    print(f\"The column '{column_to_delete}' does not exist in the DataFrame.\")"
      ],
      "metadata": {
        "colab": {
          "base_uri": "https://localhost:8080/"
        },
        "id": "5ZwfBFuQ-8y1",
        "outputId": "89d4d360-c566-4ac5-dec8-498698c744d8"
      },
      "execution_count": null,
      "outputs": [
        {
          "output_type": "stream",
          "name": "stdout",
          "text": [
            "The column 'season' has been deleted.\n"
          ]
        }
      ]
    },
    {
      "cell_type": "code",
      "source": [
        "\n",
        "X = dataset.drop('label', axis=1)\n",
        "y = dataset['label']\n",
        "label_encoder = LabelEncoder()\n",
        "y = label_encoder.fit_transform(y)\n"
      ],
      "metadata": {
        "id": "uc-UCJ1T7u1g"
      },
      "execution_count": null,
      "outputs": []
    },
    {
      "cell_type": "code",
      "source": [
        "X_train, X_test, y_train, y_test = train_test_split(X, y, test_size=0.2, random_state=42)\n",
        "model = DecisionTreeClassifier()\n",
        "model.fit(X_train, y_train)\n",
        "y_pred = model.predict(X_test)\n",
        "accuracy = accuracy_score(y_test, y_pred)\n",
        "print(f'Model Accuracy: {accuracy * 100:.2f}%')\n"
      ],
      "metadata": {
        "colab": {
          "base_uri": "https://localhost:8080/"
        },
        "id": "52xu6C9i8cVv",
        "outputId": "c43f28bf-793a-4d50-bf61-f2bddb5af9cd"
      },
      "execution_count": null,
      "outputs": [
        {
          "output_type": "stream",
          "name": "stdout",
          "text": [
            "Model Accuracy: 96.79%\n"
          ]
        }
      ]
    },
    {
      "cell_type": "code",
      "source": [
        "ph_value = float(input('Enter pH value of soil: '))\n",
        "temperature = float(input('Enter temperature: '))\n",
        "humidity = float(input('Enter humidity: '))\n",
        "moisture_level = float(input('Enter soil moisture level: '))\n",
        "\n",
        "# Create a new DataFrame for user input\n",
        "user_input = pd.DataFrame([[temperature, ph_value,  humidity, moisture_level]],\n",
        "                          columns=['temperature', 'humidity','ph', 'water availability'])\n",
        "\n",
        "# Make prediction for user input\n",
        "predicted_crop = model.predict(user_input)\n",
        "\n",
        "# print(f'\\nThe predicted crop for the given soil factors is: {predicted_crop[0]}')"
      ],
      "metadata": {
        "colab": {
          "base_uri": "https://localhost:8080/"
        },
        "id": "_6csVzig_y59",
        "outputId": "9297c4dd-0881-4d36-98b5-2722e5f8e8f0"
      },
      "execution_count": null,
      "outputs": [
        {
          "name": "stdout",
          "output_type": "stream",
          "text": [
            "Enter pH value of soil: 6.51\n",
            "Enter temperature: 19\n",
            "Enter humidity: 14.6\n",
            "Enter soil moisture level: 78.96\n"
          ]
        }
      ]
    },
    {
      "cell_type": "code",
      "source": [
        "user_input_encoded = user_input.copy()\n",
        "user_input_encoded['label'] = 0\n",
        "user_input_encoded['label'] = label_encoder.transform(['rice'])[0]\n",
        "\n",
        "predicted_crop_encoded = model.predict(user_input_encoded.drop('label', axis=1))\n",
        "\n",
        "# Convert the predicted label back to the original class\n",
        "predicted_crop = label_encoder.inverse_transform(predicted_crop_encoded)\n",
        "\n",
        "print(f'\\nThe predicted crop for the given soil factors is: {predicted_crop[0]}')"
      ],
      "metadata": {
        "colab": {
          "base_uri": "https://localhost:8080/"
        },
        "id": "jZ0hzOraB2OH",
        "outputId": "f7cf0223-82ad-49bc-8632-106ba12bce89"
      },
      "execution_count": 18,
      "outputs": [
        {
          "output_type": "stream",
          "name": "stdout",
          "text": [
            "\n",
            "The predicted crop for the given soil factors is: chickpea\n"
          ]
        }
      ]
    }
  ]
}